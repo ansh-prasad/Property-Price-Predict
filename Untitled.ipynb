{
 "cells": [
  {
   "cell_type": "markdown",
   "id": "37375311-fd73-4df9-8210-5e1462a2f442",
   "metadata": {},
   "source": [
    "## Real Estate Price Predictor"
   ]
  },
  {
   "cell_type": "code",
   "execution_count": null,
   "id": "0f924cbb-b268-4887-a462-d15ca4ff4cae",
   "metadata": {},
   "outputs": [],
   "source": []
  }
 ],
 "metadata": {
  "kernelspec": {
   "display_name": "Python 3 (ipykernel)",
   "language": "python",
   "name": "python3"
  },
  "language_info": {
   "codemirror_mode": {
    "name": "ipython",
    "version": 3
   },
   "file_extension": ".py",
   "mimetype": "text/x-python",
   "name": "python",
   "nbconvert_exporter": "python",
   "pygments_lexer": "ipython3",
   "version": "3.12.5"
  }
 },
 "nbformat": 4,
 "nbformat_minor": 5
}
